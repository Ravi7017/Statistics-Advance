{
  "nbformat": 4,
  "nbformat_minor": 0,
  "metadata": {
    "colab": {
      "provenance": [],
      "toc_visible": true
    },
    "kernelspec": {
      "name": "python3",
      "display_name": "Python 3"
    },
    "language_info": {
      "name": "python"
    }
  },
  "cells": [
    {
      "cell_type": "markdown",
      "source": [
        "#Q1.: What is a random variable in probability theory?\n",
        "\n",
        "\n",
        "A random variable in probability theory is a variable whose value is a numerical outcome of a random phenomenon. It's a function that maps the outcomes of a random experiment to real numbers. For example, if you flip a coin twice, the number of heads is a random variable that can take values 0, 1, or 2."
      ],
      "metadata": {
        "id": "0oIPdxZJjvwE"
      }
    },
    {
      "cell_type": "markdown",
      "source": [
        "#Q2. What are the types of random variables?\n",
        "\n",
        "\n",
        "There are two main types of random variables:\n",
        "\n",
        "1.Discrete Random Variable: A discrete random variable can only take on a finite number of distinct values or a countably infinite number of values. These values are often integers. Examples include the number of heads in a series of coin flips, the number of cars passing a point on a road in an hour, or the number of defects in a product.\n",
        "\n",
        "2.Continuous Random Variable: A continuous random variable can take on any value within a given range or interval. These values are typically real numbers. Examples include the height of a person, the temperature of a room, the time it takes for a task to be completed, or the weight of an object.\n"
      ],
      "metadata": {
        "id": "s94EBzfQmIY_"
      }
    },
    {
      "cell_type": "markdown",
      "source": [
        "#Q3. Explain the difference between discrete and continuous distributions.\n",
        "\n",
        "\n",
        "The key difference between discrete and continuous distributions lies in the type of random variable they describe:\n",
        "\n",
        "Discrete Distributions: These describe the probabilities of outcomes for discrete random variables. The possible values are distinct and countable. The probability of the variable taking on a specific value can be calculated. Examples include the Bernoulli, Binomial, and Poisson distributions.\n",
        "Continuous Distributions: These describe the probabilities of outcomes for continuous random variables. The variable can take on any value within a range. The probability of the variable taking on any single specific value is zero. Instead, we talk about the probability of the variable falling within a certain interval. Examples include the Normal, Uniform, and Exponential distributions.\n",
        "In short, discrete distributions deal with countable outcomes, while continuous distributions deal with outcomes that can take any value within a range.\n",
        "\n"
      ],
      "metadata": {
        "id": "B3uTx1Irmwoc"
      }
    },
    {
      "cell_type": "markdown",
      "source": [
        "#Q4. What is a binomial distribution, and how is it used in probability?\n",
        "\n",
        "\n",
        "A binomial distribution is a discrete probability distribution that describes the probability of obtaining a certain number of successes in a fixed number of independent Bernoulli trials, each with the same probability of success.\n",
        "\n",
        "Here's how it's used in probability:\n",
        "\n",
        "Modeling Binary Outcomes: It's used to model situations where there are only two possible outcomes for each trial (e.g., success/failure, heads/tails, yes/no).\n",
        ".Fixed Number of Trials: The number of trials is fixed beforehand.\n",
        ".Independent Trials: Each trial is independent of the others.\n",
        ".Constant Probability of Success: The probability of success is the same for each trial.\n",
        "For example, you could use a binomial distribution to calculate the probability of getting exactly 5 heads in 10 coin flips, assuming the coin is fair and each flip is independent.\n",
        "\n"
      ],
      "metadata": {
        "id": "WPbUHV2snRE4"
      }
    },
    {
      "cell_type": "markdown",
      "source": [
        "#Q5.What is the standard normal distribution, and why is it important?\n",
        "\n",
        "\n",
        "The standard normal distribution is a special case of the normal distribution. It has a mean of 0 and a standard deviation of 1. It is often denoted by the letter Z.\n",
        "\n",
        "It is important for several reasons:\n",
        "\n",
        "1.Standardization: Any normal distribution can be converted to the standard normal distribution by standardizing the variable. This allows us to compare values from different normal distributions.\n",
        "2.Probability Calculation: Probabilities for any normal distribution can be calculated using the standard normal distribution table (Z-table).\n",
        "3.Statistical Inference: It is widely used in statistical inference for hypothesis testing and confidence interval estimation.\n"
      ],
      "metadata": {
        "id": "uZOJ_k5qn2dV"
      }
    },
    {
      "cell_type": "markdown",
      "source": [
        "#Q6. What is the Central Limit Theorem (CLT), and why is it critical in statistics?\n",
        "\n",
        "\n",
        "The Central Limit Theorem (CLT) is a fundamental theorem in statistics. It states that if you take sufficiently large random samples from any population (regardless of the population's distribution), the distribution of the sample means will approximate a normal distribution. The larger the sample size, the closer the sample mean distribution will be to a normal distribution.\n",
        "\n",
        "It is critical in statistics for several reasons:\n",
        "\n",
        "1.Inference about Population Mean: The CLT allows us to make inferences about the population mean based on the sample mean, even if we don't know the population distribution.\n",
        "2.Basis for Hypothesis Testing and Confidence Intervals: Many statistical tests and confidence intervals rely on the assumption of normality. The CLT ensures that this assumption is valid for large sample sizes, even if the original data is not normally distributed.\n",
        "3.Simplifies Statistical Analysis: It simplifies statistical analysis by allowing us to use the properties of the normal distribution to calculate probabilities and make statistical inferences.\n",
        "In essence, the CLT is what allows us to use sample data to draw conclusions about a larger population."
      ],
      "metadata": {
        "id": "fADzXDU1ovtO"
      }
    },
    {
      "cell_type": "markdown",
      "source": [
        "#Q7. What is the significance of confidence intervals in statistical analysis?\n",
        "\n",
        "\n",
        "Confidence intervals are significant in statistical analysis because they provide a range of values within which the true population parameter (like the mean or proportion) is likely to lie. Instead of just providing a single point estimate, which is unlikely to be exactly correct, a confidence interval gives a sense of the precision and reliability of the estimate.\n",
        "\n",
        "Here's why they are critical:\n",
        "\n",
        "1.Quantifying Uncertainty: They quantify the uncertainty associated with a sample statistic. A wider interval indicates more uncertainty, while a narrower interval indicates less uncertainty.\n",
        "2.Inference about Population Parameters: They allow us to make inferences about the population parameter based on a sample. If a confidence interval for a parameter does not include a specific value, we can be reasonably confident that the true population parameter is not that value.\n",
        "3.Decision Making: They are used in decision-making processes, especially in research and business, to assess the potential range of outcomes.\n",
        "4.Comparing Groups: Confidence intervals can be used to compare parameters between different groups. If the confidence intervals for two groups do not overlap, it suggests a statistically significant difference between them."
      ],
      "metadata": {
        "id": "_0WG3VC5pcjs"
      }
    },
    {
      "cell_type": "markdown",
      "source": [
        "#Q8.What is the concept of expected value in a probability distribution?\n",
        "\n",
        "\n",
        "The expected value (or expectation) of a random variable is a fundamental concept in probability. It represents the average value of the random variable over a large number of trials or experiments. It's essentially a weighted average of all possible values that the random variable can take, where the weights are the probabilities of those values occurring.\n",
        "\n",
        "\n",
        ".For a discrete random variable: The expected value is calculated by summing the product of each possible value of the variable and its corresponding probability.\n",
        "\n",
        "$E(X) = \\sum [x \\cdot P(X=x)]$$E(X) = \\sum [x \\cdot P(X=x)]$\n",
        "\n",
        "Where:\n",
        "\n",
        "$E(X)$$E(X)$ is the expected value of the random variable X.\n",
        "$x$$x$ is a possible value of the random variable X.\n",
        "$P(X=x)$$P(X=x)$ is the probability that the random variable X takes on the value x.\n",
        ".For a continuous random variable: The expected value is calculated by integrating the product of each possible value of the variable and its probability density function over the entire range of possible values.\n",
        "\n",
        "$E(X) = \\int_{-\\infty}^{\\infty} x \\cdot f(x) \\, dx$$E(X) = \\int_{-\\infty}^{\\infty} x \\cdot f(x) \\, dx$"
      ],
      "metadata": {
        "id": "msP5Irb9qNdC"
      }
    },
    {
      "cell_type": "code",
      "metadata": {
        "colab": {
          "base_uri": "https://localhost:8080/",
          "height": 541
        },
        "id": "5fb8690c",
        "outputId": "15699ba7-9c3b-4f1b-fbb6-6ff189f48d28"
      },
      "source": [
        "#Q9. Write a Python program to generate 1000 random numbers from a normal\n",
        "distribution with mean = 50 and standard deviation = 5. Compute its mean and standard\n",
        "deviation using NumPy, and draw a histogram to visualize the distribution.#\n",
        "\n",
        "\n",
        "\n",
        "\n",
        "import numpy as np\n",
        "import matplotlib.pyplot as plt\n",
        "\n",
        "# Generate 1000 random numbers from a normal distribution\n",
        "mean = 50\n",
        "std_dev = 5\n",
        "random_numbers = np.random.normal(mean, std_dev, 1000)\n",
        "\n",
        "# Compute the mean and standard deviation using NumPy\n",
        "computed_mean = np.mean(random_numbers)\n",
        "computed_std_dev = np.std(random_numbers)\n",
        "\n",
        "print(f\"Generated Mean: {mean}\")\n",
        "print(f\"Computed Mean: {computed_mean}\")\n",
        "print(f\"Generated Standard Deviation: {std_dev}\")\n",
        "print(f\"Computed Standard Deviation: {computed_std_dev}\")\n",
        "\n",
        "# Draw a histogram to visualize the distribution\n",
        "plt.hist(random_numbers, bins=30, density=True, alpha=0.6, color='g')\n",
        "plt.title('Histogram of Random Numbers from Normal Distribution')\n",
        "plt.xlabel('Value')\n",
        "plt.ylabel('Frequency')\n",
        "plt.show()"
      ],
      "execution_count": 1,
      "outputs": [
        {
          "output_type": "stream",
          "name": "stdout",
          "text": [
            "Generated Mean: 50\n",
            "Computed Mean: 50.16724194490078\n",
            "Generated Standard Deviation: 5\n",
            "Computed Standard Deviation: 4.741473497911083\n"
          ]
        },
        {
          "output_type": "display_data",
          "data": {
            "text/plain": [
              "<Figure size 640x480 with 1 Axes>"
            ],
            "image/png": "[encoded data removed]"
          },
          "metadata": {}
        }
      ]
    },
    {
      "cell_type": "code",
      "source": [
        "#Q10. You are working as a data analyst for a retail company. The company has\n",
        "collected daily sales data for 2 years and wants you to identify the overall sales trend.\n",
        "daily_sales = [220, 245, 210, 265, 230, 250, 260, 275, 240, 255,\n",
        "235, 260, 245, 250, 225, 270, 265, 255, 250, 260]\n",
        "● Explain how you would apply the Central Limit Theorem to estimate the average sales\n",
        "with a 95% confidence interval.\n",
        "● Write the Python code to compute the mean sales and its confidence interval."
      ],
      "metadata": {
        "id": "VpYYukzdrVx0"
      },
      "execution_count": null,
      "outputs": []
    },
    {
      "cell_type": "code",
      "metadata": {
        "colab": {
          "base_uri": "https://localhost:8080/"
        },
        "id": "49ee8b82",
        "outputId": "5194ec98-dba6-4108-fec7-154b65d02953"
      },
      "source": [
        "#Q10.  You are working as a data analyst for a retail company. The company has\n",
        "collected daily sales data for 2 years and wants you to identify the overall sales trend.\n",
        "daily_sales = [220, 245, 210, 265, 230, 250, 260, 275, 240, 255,\n",
        "235, 260, 245, 250, 225, 270, 265, 255, 250, 260]\n",
        "● Explain how you would apply the Central Limit Theorem to estimate the average sales\n",
        "with a 95% confidence interval.\n",
        "● Write the Python code to compute the mean sales and its confidence interval.\n",
        "\n",
        "\n",
        "\n",
        "import numpy as np\n",
        "from scipy import stats\n",
        "\n",
        "daily_sales = [220, 245, 210, 265, 230, 250, 260, 275, 240, 255,\n",
        "               235, 260, 245, 250, 225, 270, 265, 255, 250, 260]\n",
        "\n",
        "# Compute the mean sales\n",
        "mean_sales = np.mean(daily_sales)\n",
        "print(f\"Mean Sales: {mean_sales}\")\n",
        "\n",
        "# Compute the confidence interval (95%)\n",
        "# For a small sample size, we use the t-distribution\n",
        "sample_size = len(daily_sales)\n",
        "std_dev_sales = np.std(daily_sales, ddof=1)  # Use ddof=1 for sample standard deviation\n",
        "standard_error = std_dev_sales / np.sqrt(sample_size)\n",
        "\n",
        "# Get the t-score for a 95% confidence level and n-1 degrees of freedom\n",
        "# For a 95% confidence interval, alpha = 0.05, alpha/2 = 0.025\n",
        "# We need the t-score for 1 - alpha/2 = 0.975\n",
        "confidence_level = 0.95\n",
        "alpha = 1 - confidence_level\n",
        "degrees_freedom = sample_size - 1\n",
        "t_score = stats.t.ppf(1 - alpha/2, degrees_freedom)\n",
        "\n",
        "# Calculate the margin of error\n",
        "margin_of_error = t_score * standard_error\n",
        "\n",
        "# Calculate the confidence interval\n",
        "confidence_interval = (mean_sales - margin_of_error, mean_sales + margin_of_error)\n",
        "\n",
        "print(f\"95% Confidence Interval for Mean Sales: {confidence_interval}\")"
      ],
      "execution_count": 2,
      "outputs": [
        {
          "output_type": "stream",
          "name": "stdout",
          "text": [
            "Mean Sales: 248.25\n",
            "95% Confidence Interval for Mean Sales: (np.float64(240.16957025147158), np.float64(256.3304297485284))\n"
          ]
        }
      ]
    }
  ]
}